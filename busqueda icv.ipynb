{
 "cells": [
  {
   "cell_type": "code",
   "execution_count": null,
   "id": "1a9203f4",
   "metadata": {
    "scrolled": false
   },
   "outputs": [],
   "source": [
    "# === INPUT: Hojas como cadena separada por comas ===\n",
    "hojas_str = \"0872,0871,0870,0935,0934,0913,0914,0892,0893,0893,0845,0846,0847,0848,0819,0795,0796,0823,0820,0821,0822\"\n",
    "\n",
    "import requests\n",
    "\n",
    "# === CONFIGURACIÓN GENERAL ===\n",
    "max_filas = 9\n",
    "max_columnas = 9\n",
    "\n",
    "base_url = \"https://descargas.icv.gva.es/dcd/02_imagen/02_ortofoto/2024_CVAL_0025/01_Imagen/01_25830_01_8bits_02_RGBI_02_TIFJPG\"\n",
    "urls_validas = []\n",
    "\n",
    "# Configuración del proxy\n",
    "proxies = {\n",
    "    \"http\": \"http://127.0.0.1:3128\",\n",
    "    \"https\": \"http://127.0.0.1:3128\"\n",
    "}\n",
    "\n",
    "# === HOJAS EN FORMATO DE CADENA ===\n",
    "hojas = [h.strip() for h in hojas_str.split(\",\")]\n",
    "\n",
    "# === BÚSQUEDA DE FICHEROS ===\n",
    "for hoja in hojas:\n",
    "    print(f\"\\n🔷 Buscando archivos para hoja {hoja}...\")\n",
    "    for fila in range(1, max_filas + 1):\n",
    "        for col in range(1, max_columnas + 1):\n",
    "            nombre = f\"020201_2024CVAL0025_25830_8bits_RGBI_{hoja}_{fila}-{col}.tif\"\n",
    "            url = f\"{base_url}/{nombre}\"\n",
    "\n",
    "            print(f\"🔍 Probando: {url}\")\n",
    "            try:\n",
    "                r = requests.head(url, timeout=10, proxies=proxies)\n",
    "                if r.status_code == 200:\n",
    "                    print(f\"✅ Existe: {nombre}\")\n",
    "                    urls_validas.append(url)\n",
    "                else:\n",
    "                    print(f\"❌ No existe ({r.status_code})\")\n",
    "            except requests.RequestException as e:\n",
    "                print(f\"⚠️ Error de conexión con {url}: {e}\")\n",
    "\n",
    "# === GUARDAR RESULTADOS ===\n",
    "with open(\"urls_validas_norte.txt\", \"w\", encoding=\"utf-8\") as f:\n",
    "    f.write(\"\\n\".join(urls_validas))\n",
    "\n",
    "print(f\"\\n📦 Guardado completo: {len(urls_validas)} URLs válidas en 'urls_validas.txt'\")\n"
   ]
  },
  {
   "cell_type": "code",
   "execution_count": null,
   "id": "f2eb38e6",
   "metadata": {},
   "outputs": [],
   "source": []
  }
 ],
 "metadata": {
  "kernelspec": {
   "display_name": "Python 3 (ipykernel)",
   "language": "python",
   "name": "python3"
  },
  "language_info": {
   "codemirror_mode": {
    "name": "ipython",
    "version": 3
   },
   "file_extension": ".py",
   "mimetype": "text/x-python",
   "name": "python",
   "nbconvert_exporter": "python",
   "pygments_lexer": "ipython3",
   "version": "3.9.12"
  }
 },
 "nbformat": 4,
 "nbformat_minor": 5
}
